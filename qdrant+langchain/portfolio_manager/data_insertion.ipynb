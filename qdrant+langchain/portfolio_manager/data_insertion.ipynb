{
 "cells": [
  {
   "cell_type": "code",
   "execution_count": 1,
   "metadata": {},
   "outputs": [
    {
     "name": "stderr",
     "output_type": "stream",
     "text": [
      "c:\\Users\\jayit\\portfolio_manager\\.venv\\Lib\\site-packages\\tqdm\\auto.py:21: TqdmWarning: IProgress not found. Please update jupyter and ipywidgets. See https://ipywidgets.readthedocs.io/en/stable/user_install.html\n",
      "  from .autonotebook import tqdm as notebook_tqdm\n"
     ]
    },
    {
     "data": {
      "text/plain": [
       "True"
      ]
     },
     "execution_count": 1,
     "metadata": {},
     "output_type": "execute_result"
    }
   ],
   "source": [
    "import os\n",
    "\n",
    "from langchain_core.prompts import ChatPromptTemplate\n",
    "from langchain.schema.document import Document\n",
    "\n",
    "from langchain.text_splitter import RecursiveCharacterTextSplitter\n",
    "\n",
    "from langchain_community.document_loaders import SeleniumURLLoader\n",
    "from langchain_community.vectorstores import Qdrant\n",
    "from langchain_google_genai import (\n",
    "    ChatGoogleGenerativeAI,\n",
    "    GoogleGenerativeAIEmbeddings,\n",
    "    HarmBlockThreshold,\n",
    "    HarmCategory,\n",
    ")\n",
    "from dotenv import load_dotenv\n",
    "load_dotenv()"
   ]
  },
  {
   "cell_type": "code",
   "execution_count": 2,
   "metadata": {},
   "outputs": [],
   "source": [
    "# portfolio_constants is the constants file which contains \n",
    "# these 2 variables. The constants file can be found below.\n",
    "from portfolio_constants import VECTOR_DB_COLLECTION, portfolio\n",
    "\n",
    "QDRANT_URL = os.getenv(\"QDRANT_URL\")\n",
    "QDRANT_API_KEY = os.getenv(\"QDRANT_API_KEY\")\n",
    "GOOGLE_API_KEY = os.getenv(\"GOOGLE_API_KEY\")\n",
    "\n",
    "CHUNK_SIZE = 1000\n",
    "CHUNK_OVERLAP = 200\n",
    "\n",
    "llm = ChatGoogleGenerativeAI(\n",
    "        model=\"gemini-pro\",\n",
    "        safety_settings={\n",
    "        HarmCategory.HARM_CATEGORY_DANGEROUS_CONTENT: HarmBlockThreshold.BLOCK_NONE,\n",
    "        },\n",
    "    )\n",
    "Embeddings = GoogleGenerativeAIEmbeddings(model=\"models/embedding-001\")\n",
    "\n",
    "cnbc_quarter_report = {\n",
    "    'GOOGL': {\"report_link\": 'https://www.cnbc.com/2024/01/30/alphabet-googl-q4-earnings-report-2023.html', \"quarter\": \"Q4\", \"year\": \"2023\"},\n",
    "    'AAPL': {\"report_link\": 'https://www.cnbc.com/2023/11/02/apple-aapl-earnings-report-q4-2023.html', \"quarter\": \"Q4\", \"year\": \"2023\"},\n",
    "    'TSLA': {\"report_link\": 'https://www.cnbc.com/2024/01/24/tesla-tsla-earnings-q4-2023.html', \"quarter\": \"Q4\", \"year\": \"2023\"},\n",
    "    'MSFT': {\"report_link\": 'https://www.cnbc.com/2024/01/30/microsoft-msft-q2-earnings-report-2024.html', \"quarter\": \"Q4\", \"year\": \"2023\"},\n",
    "    'WMT': {\"report_link\": 'https://www.cnbc.com/2024/02/20/walmart-wmt-q4-2024-earnings-.html', \"quarter\": \"Q4\", \"year\": \"2023\"}\n",
    "}"
   ]
  },
  {
   "cell_type": "code",
   "execution_count": 3,
   "metadata": {},
   "outputs": [],
   "source": [
    "# To locate the earning report, we're meticulously extracting relevant information like financial data,\n",
    "# key metrics, and analyst commentary from this webpage, while discarding distractions such as navigation menus,\n",
    "# page reference links, banner ads, social media widgets, contact information, and legal disclaimers.\n",
    "def extract_content(url):\n",
    "    template = \"\"\"You are an experienced equity research analyst and you do a fantastic job of extracting company's earning information from the `company's earning report`. \n",
    "\n",
    "        You are instructed that, if the given text doesnot belong to `company's earning report` then ignore the text and return only the text `**NA**`.\n",
    "\n",
    "        You are instructed to extract the exact lines from the `company's earning report` as it is. Don't update or modify the extracted lines.\n",
    "\n",
    "        Below is the `company's earning report`:\n",
    "        {earning_report}\n",
    "    \"\"\"\n",
    "\n",
    "    chunked_docs = chunk_web_data(url)\n",
    "    extracted_text_content = \"\"\n",
    "    for doc in chunked_docs:\n",
    "        prompt = ChatPromptTemplate.from_template(template)\n",
    "        chain = prompt | llm\n",
    "        data = chain.invoke({\"earning_report\": doc}).content\n",
    "        if \"**NA**\" in data:\n",
    "            continue\n",
    "        extracted_text_content += data\n",
    "\n",
    "    return extracted_text_content"
   ]
  },
  {
   "cell_type": "code",
   "execution_count": 4,
   "metadata": {},
   "outputs": [],
   "source": [
    "# Breaking down the webpage content into small documents so that it can be passed to the LLM to remove the noise\n",
    "# from the financial data\n",
    "def chunk_web_data(url):\n",
    "    documents = scrape_content(url)\n",
    "    text_splitter = RecursiveCharacterTextSplitter(\n",
    "        chunk_size=CHUNK_SIZE, chunk_overlap=CHUNK_OVERLAP)\n",
    "    return text_splitter.split_documents(documents)"
   ]
  },
  {
   "cell_type": "code",
   "execution_count": 5,
   "metadata": {},
   "outputs": [],
   "source": [
    "# We are using Selenium to scrape the webpage content of the given URL\n",
    "def scrape_content(url):\n",
    "    urls = [url]\n",
    "    loader = SeleniumURLLoader(urls=urls)\n",
    "    return loader.load()\n"
   ]
  },
  {
   "cell_type": "code",
   "execution_count": 6,
   "metadata": {},
   "outputs": [],
   "source": [
    "# The LLM filtered data is now broken down smaller documents before storing them in the Qdrant Vector store. In the\n",
    "# metadata we are passing the company ticker, and the quarter and the year of the earning report. This will help in\n",
    "# fetching the relevant information.\n",
    "def chunk_text_data(text, ticker, quarter, year):\n",
    "    text_splitter = RecursiveCharacterTextSplitter(\n",
    "        chunk_size=CHUNK_SIZE, chunk_overlap=CHUNK_OVERLAP)\n",
    "    metadata_source = ticker + \"-\" + quarter + \"-\" + year\n",
    "    document = Document(page_content=text, metadata={\"source\": metadata_source})\n",
    "    return text_splitter.split_documents([document])"
   ]
  },
  {
   "cell_type": "code",
   "execution_count": 7,
   "metadata": {},
   "outputs": [],
   "source": [
    "# Using this function we are inserting the docs in the Qdrant DB\n",
    "def insert_data_to_vector_store(docs):\n",
    "    Qdrant.from_documents(\n",
    "        docs,\n",
    "        Embeddings,\n",
    "        url=QDRANT_URL,\n",
    "        prefer_grpc=True,\n",
    "        api_key=QDRANT_API_KEY,\n",
    "        collection_name=VECTOR_DB_COLLECTION,\n",
    "    )\n"
   ]
  },
  {
   "cell_type": "code",
   "execution_count": 8,
   "metadata": {},
   "outputs": [
    {
     "name": "stdout",
     "output_type": "stream",
     "text": [
      "Extracting content for:  Tesla\n",
      "Chunking document for TSLA-Q4-2023\n",
      "Inserting Report to Qdrant for Tesla\n"
     ]
    }
   ],
   "source": [
    "# This is the main function which orchestrates the entire flow from fetching content to storing them in the vector store.\n",
    "# def main():\n",
    "for entry in portfolio:\n",
    "    ticker = entry[\"ticker\"]\n",
    "    company_name = entry[\"company_name\"]\n",
    "\n",
    "    report_dict = cnbc_quarter_report[ticker]\n",
    "    report_link = report_dict[\"report_link\"]\n",
    "    year = report_dict[\"year\"]\n",
    "    quarter = report_dict[\"quarter\"]\n",
    "\n",
    "    print(\"Extracting content for: \", company_name)\n",
    "    extracted_text_content = extract_content(report_link)\n",
    "\n",
    "    print(\"Chunking document for \" + ticker + \"-\" + quarter + \"-\" + year)\n",
    "    chunked_docs = chunk_text_data(extracted_text_content, ticker, quarter, year)\n",
    "\n",
    "    print(\"Inserting Report to Qdrant for \" + company_name)\n",
    "    insert_data_to_vector_store(chunked_docs)\n"
   ]
  }
 ],
 "metadata": {
  "kernelspec": {
   "display_name": ".venv",
   "language": "python",
   "name": "python3"
  },
  "language_info": {
   "codemirror_mode": {
    "name": "ipython",
    "version": 3
   },
   "file_extension": ".py",
   "mimetype": "text/x-python",
   "name": "python",
   "nbconvert_exporter": "python",
   "pygments_lexer": "ipython3",
   "version": "3.12.1"
  }
 },
 "nbformat": 4,
 "nbformat_minor": 2
}
