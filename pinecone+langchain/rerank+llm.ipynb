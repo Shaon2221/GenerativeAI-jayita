{
 "cells": [
  {
   "cell_type": "code",
   "execution_count": 11,
   "metadata": {},
   "outputs": [],
   "source": [
    "import time\n",
    "start = time.time()"
   ]
  },
  {
   "cell_type": "code",
   "execution_count": 12,
   "metadata": {},
   "outputs": [],
   "source": [
    "from langchain.vectorstores import Pinecone\n",
    "import pinecone\n",
    "from langchain.chat_models import ChatOpenAI\n",
    "from langchain.embeddings import OpenAIEmbeddings\n",
    "from langchain.chains import RetrievalQA\n",
    "from langchain.retrievers import ContextualCompressionRetriever\n",
    "from langchain.retrievers.document_compressors import CohereRerank\n",
    "from dotenv import load_dotenv\n",
    "import os\n",
    "load_dotenv()\n",
    "OPENAI_API_KEY = os.getenv('OPENAI_API_KEY')\n",
    "PINECONE_API_KEY = os.getenv('PINECONE_API_KEY')\n",
    "PINECONE_ENV = os.getenv('PINECONE_ENV')\n",
    "\n",
    "# Initializing Pinecone Vector DB\n",
    "pinecone.init(\n",
    "    api_key=PINECONE_API_KEY,\n",
    "    environment=PINECONE_ENV\n",
    ")\n",
    "\n",
    "# Pinecone Vector DB index name\n",
    "# index_name = 'it-case-files'\n",
    "index_name = 'slp'\n",
    "index = pinecone.Index(index_name)\n",
    "    "
   ]
  },
  {
   "cell_type": "code",
   "execution_count": 13,
   "metadata": {},
   "outputs": [],
   "source": [
    "embeddings = OpenAIEmbeddings()\n",
    "docsearch = Pinecone.from_existing_index(index_name, embeddings)"
   ]
  },
  {
   "cell_type": "code",
   "execution_count": 14,
   "metadata": {},
   "outputs": [],
   "source": [
    "compressor = CohereRerank(top_n=5)\n",
    "compression_retriever = ContextualCompressionRetriever(\n",
    "    base_compressor=compressor, base_retriever=docsearch.as_retriever()\n",
    ")"
   ]
  },
  {
   "cell_type": "code",
   "execution_count": 15,
   "metadata": {},
   "outputs": [],
   "source": [
    "def pretty_print_docs(docs):\n",
    "    print(\n",
    "        f\"\\n{'-' * 100}\\n\".join(\n",
    "            [f\"Document {i+1}:\\n\" + d.page_content + \"\\n\" +str(d.metadata) for i, d in enumerate(docs)]\n",
    "        )\n",
    "    )"
   ]
  },
  {
   "cell_type": "code",
   "execution_count": 16,
   "metadata": {},
   "outputs": [],
   "source": [
    "# completion llm\n",
    "llm = ChatOpenAI(\n",
    "    openai_api_key=OPENAI_API_KEY,\n",
    "    model_name='gpt-4',\n",
    "    temperature=0.5\n",
    ")"
   ]
  },
  {
   "cell_type": "code",
   "execution_count": 17,
   "metadata": {},
   "outputs": [],
   "source": [
    "query = \"What will be the consequences of not deducting/depositing TDS?\""
   ]
  },
  {
   "cell_type": "code",
   "execution_count": null,
   "metadata": {},
   "outputs": [],
   "source": [
    "compressed_docs = compression_retriever.get_relevant_documents(query)\n",
    "pretty_print_docs(compressed_docs)"
   ]
  },
  {
   "cell_type": "code",
   "execution_count": 19,
   "metadata": {},
   "outputs": [],
   "source": [
    "qa = RetrievalQA.from_chain_type(llm=llm,\n",
    "                                 chain_type=\"stuff\",\n",
    "                                 retriever=compression_retriever )"
   ]
  },
  {
   "cell_type": "code",
   "execution_count": 20,
   "metadata": {},
   "outputs": [
    {
     "data": {
      "text/plain": [
       "'If the tax is not deducted or deposited under s. 194C or other provisions of the IT Act, the assessee will face the consequences provided under Chapter XVII of the Act. This could involve penalties or interest. If the TDS is not deposited, it is a clear contradiction of the provisions of the Act and the relevant provisions are attracted. Even if the assessee is entitled to claim a refund or get it adjusted against the tax liability, they cannot withhold the TDS deducted. If they do, the provisions of s. 40(a)(ia) are attracted. Furthermore, failure to deposit TDS into the Government account is not accepted as a reasonable cause for non-issue of certificate in Form No. 16A, and penalty under s. 272A(2)(g) is leviable for default in issuing TDS certificate even if tax is not deposited.'"
      ]
     },
     "execution_count": 20,
     "metadata": {},
     "output_type": "execute_result"
    }
   ],
   "source": [
    "qa.run(query=query)"
   ]
  },
  {
   "cell_type": "markdown",
   "metadata": {},
   "source": [
    "MAP_REDUCE\n",
    "'Yes, the deductee should get the credit of TDS even if the deductor did not deposit TDS with the government. The text states that the assessee should not be denied the benefit of TDS on the sole ground that the tax so deducted has not been paid to the credit of the Central Government.'"
   ]
  },
  {
   "cell_type": "markdown",
   "metadata": {},
   "source": [
    "MAP_RERANK\n",
    "\n",
    "\"Yes, the deductee should still get the credit of TDS even if the deductor did not deposit the TDS with the government. It's the department's responsibility to recover such amount from the deductor.\""
   ]
  },
  {
   "cell_type": "markdown",
   "metadata": {},
   "source": [
    "REFINE\n",
    "'While in theory, a deductee should be able to claim the credit for Tax Deducted at Source (TDS) even if the deductor has not deposited the TDS with the government, this may not always be the case in practice. The credit for TDS is typically granted based on the record of TDS payments held by the government. Consequently, if the deductor fails to deposit the TDS, it will not appear in these records and the deductee may encounter difficulties in claiming the credit. Therefore, it is crucial for the deductee to ensure the deductor is making timely TDS deposits with the government.'\n"
   ]
  },
  {
   "cell_type": "markdown",
   "metadata": {},
   "source": [
    "STUFF\n",
    "'Yes, the deductee should get the credit of TDS even if the deductor did not deposit the TDS with the government. The liability to pay income-tax if deducted at source is on the employer, or the deductor. If the deductor fails to deposit the TDS, the deductee should not be made to suffer for the illegalities committed by the deductor. It is the responsibility of the department to recover such amount from the deductor.'"
   ]
  }
 ],
 "metadata": {
  "kernelspec": {
   "display_name": "Python 3 (ipykernel)",
   "language": "python",
   "name": "python3"
  },
  "language_info": {
   "codemirror_mode": {
    "name": "ipython",
    "version": 3
   },
   "file_extension": ".py",
   "mimetype": "text/x-python",
   "name": "python",
   "nbconvert_exporter": "python",
   "pygments_lexer": "ipython3",
   "version": "3.9.7"
  }
 },
 "nbformat": 4,
 "nbformat_minor": 2
}
